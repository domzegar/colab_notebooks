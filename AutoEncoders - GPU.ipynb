{
  "nbformat": 4,
  "nbformat_minor": 0,
  "metadata": {
    "colab": {
      "provenance": [],
      "collapsed_sections": [],
      "toc_visible": true,
      "include_colab_link": true
    },
    "kernelspec": {
      "name": "python3",
      "display_name": "Python 3"
    },
    "accelerator": "GPU"
  },
  "cells": [
    {
      "cell_type": "markdown",
      "metadata": {
        "id": "view-in-github",
        "colab_type": "text"
      },
      "source": [
        "<a href=\"https://colab.research.google.com/github/domzegar/colab_notebooks/blob/main/AutoEncoders%20-%20GPU.ipynb\" target=\"_parent\"><img src=\"https://colab.research.google.com/assets/colab-badge.svg\" alt=\"Open In Colab\"/></a>"
      ]
    },
    {
      "cell_type": "markdown",
      "metadata": {
        "id": "K4f4JG1gdKqj"
      },
      "source": [
        "#AutoEncoders"
      ]
    },
    {
      "cell_type": "markdown",
      "metadata": {
        "id": "1jbiqOK7dLGG"
      },
      "source": [
        "##Downloading the dataset"
      ]
    },
    {
      "cell_type": "markdown",
      "metadata": {
        "id": "XL5MEkLcfRD2"
      },
      "source": [
        "###ML-100K"
      ]
    },
    {
      "cell_type": "code",
      "metadata": {
        "id": "rjOPzue7FCXJ",
        "outputId": "d623355f-cfa8-43f4-8c0a-9f4c922a5dd5",
        "colab": {
          "base_uri": "https://localhost:8080/"
        }
      },
      "source": [
        "!wget \"http://files.grouplens.org/datasets/movielens/ml-100k.zip\"\n",
        "!unzip ml-100k.zip\n",
        "!ls"
      ],
      "execution_count": 1,
      "outputs": [
        {
          "output_type": "stream",
          "name": "stdout",
          "text": [
            "--2022-11-06 09:38:44--  http://files.grouplens.org/datasets/movielens/ml-100k.zip\n",
            "Resolving files.grouplens.org (files.grouplens.org)... 128.101.65.152\n",
            "Connecting to files.grouplens.org (files.grouplens.org)|128.101.65.152|:80... connected.\n",
            "HTTP request sent, awaiting response... 200 OK\n",
            "Length: 4924029 (4.7M) [application/zip]\n",
            "Saving to: ‘ml-100k.zip’\n",
            "\n",
            "ml-100k.zip         100%[===================>]   4.70M  2.69MB/s    in 1.7s    \n",
            "\n",
            "2022-11-06 09:38:47 (2.69 MB/s) - ‘ml-100k.zip’ saved [4924029/4924029]\n",
            "\n",
            "Archive:  ml-100k.zip\n",
            "   creating: ml-100k/\n",
            "  inflating: ml-100k/allbut.pl       \n",
            "  inflating: ml-100k/mku.sh          \n",
            "  inflating: ml-100k/README          \n",
            "  inflating: ml-100k/u.data          \n",
            "  inflating: ml-100k/u.genre         \n",
            "  inflating: ml-100k/u.info          \n",
            "  inflating: ml-100k/u.item          \n",
            "  inflating: ml-100k/u.occupation    \n",
            "  inflating: ml-100k/u.user          \n",
            "  inflating: ml-100k/u1.base         \n",
            "  inflating: ml-100k/u1.test         \n",
            "  inflating: ml-100k/u2.base         \n",
            "  inflating: ml-100k/u2.test         \n",
            "  inflating: ml-100k/u3.base         \n",
            "  inflating: ml-100k/u3.test         \n",
            "  inflating: ml-100k/u4.base         \n",
            "  inflating: ml-100k/u4.test         \n",
            "  inflating: ml-100k/u5.base         \n",
            "  inflating: ml-100k/u5.test         \n",
            "  inflating: ml-100k/ua.base         \n",
            "  inflating: ml-100k/ua.test         \n",
            "  inflating: ml-100k/ub.base         \n",
            "  inflating: ml-100k/ub.test         \n",
            "ml-100k  ml-100k.zip  sample_data\n"
          ]
        }
      ]
    },
    {
      "cell_type": "markdown",
      "metadata": {
        "id": "9Xis6ldDfTs6"
      },
      "source": [
        "###ML-1M"
      ]
    },
    {
      "cell_type": "code",
      "metadata": {
        "id": "LOly1yfAfTjd",
        "outputId": "20e8b84c-4291-4132-8b5a-93f9896823e1",
        "colab": {
          "base_uri": "https://localhost:8080/"
        }
      },
      "source": [
        "!wget \"http://files.grouplens.org/datasets/movielens/ml-1m.zip\"\n",
        "!unzip ml-1m.zip\n",
        "!ls"
      ],
      "execution_count": 2,
      "outputs": [
        {
          "output_type": "stream",
          "name": "stdout",
          "text": [
            "--2022-11-06 09:50:33--  http://files.grouplens.org/datasets/movielens/ml-1m.zip\n",
            "Resolving files.grouplens.org (files.grouplens.org)... 128.101.65.152\n",
            "Connecting to files.grouplens.org (files.grouplens.org)|128.101.65.152|:80... connected.\n",
            "HTTP request sent, awaiting response... 200 OK\n",
            "Length: 5917549 (5.6M) [application/zip]\n",
            "Saving to: ‘ml-1m.zip’\n",
            "\n",
            "ml-1m.zip           100%[===================>]   5.64M  3.33MB/s    in 1.7s    \n",
            "\n",
            "2022-11-06 09:50:36 (3.33 MB/s) - ‘ml-1m.zip’ saved [5917549/5917549]\n",
            "\n",
            "Archive:  ml-1m.zip\n",
            "   creating: ml-1m/\n",
            "  inflating: ml-1m/movies.dat        \n",
            "  inflating: ml-1m/ratings.dat       \n",
            "  inflating: ml-1m/README            \n",
            "  inflating: ml-1m/users.dat         \n",
            "ml-100k  ml-100k.zip  ml-1m  ml-1m.zip\tsample_data\n"
          ]
        }
      ]
    },
    {
      "cell_type": "markdown",
      "metadata": {
        "id": "EOBJ8UCXdY0g"
      },
      "source": [
        "##Importing the libraries"
      ]
    },
    {
      "cell_type": "code",
      "metadata": {
        "id": "_LvGeU1CeCtg"
      },
      "source": [
        "import numpy as np\n",
        "import pandas as pd\n",
        "import torch\n",
        "import torch.nn as nn\n",
        "import torch.nn.parallel\n",
        "import torch.optim as optim\n",
        "import torch.utils.data\n",
        "from torch.autograd import Variable"
      ],
      "execution_count": 3,
      "outputs": []
    },
    {
      "cell_type": "markdown",
      "metadata": {
        "id": "pM04FyMudkoK"
      },
      "source": [
        "## Importing the dataset\n"
      ]
    },
    {
      "cell_type": "code",
      "metadata": {
        "id": "UJw2p3-Cewo4"
      },
      "source": [
        "# We won't be using this dataset.\n",
        "movies = pd.read_csv('ml-1m/movies.dat', sep = '::', header = None, engine = 'python', encoding = 'latin-1')\n",
        "users = pd.read_csv('ml-1m/users.dat', sep = '::', header = None, engine = 'python', encoding = 'latin-1')\n",
        "ratings = pd.read_csv('ml-1m/ratings.dat', sep = '::', header = None, engine = 'python', encoding = 'latin-1')"
      ],
      "execution_count": 4,
      "outputs": []
    },
    {
      "cell_type": "markdown",
      "metadata": {
        "id": "yTIbE2tkdkwP"
      },
      "source": [
        "## Preparing the training set and the test set\n"
      ]
    },
    {
      "cell_type": "code",
      "metadata": {
        "id": "2usLKJBEgPE2"
      },
      "source": [
        "training_set = pd.read_csv('ml-100k/u1.base', delimiter = '\\t')\n",
        "training_set = np.array(training_set, dtype = 'int')\n",
        "test_set = pd.read_csv('ml-100k/u1.test', delimiter = '\\t')\n",
        "test_set = np.array(test_set, dtype = 'int')"
      ],
      "execution_count": 5,
      "outputs": []
    },
    {
      "cell_type": "markdown",
      "metadata": {
        "id": "zCf8HjSydk4s"
      },
      "source": [
        "## Getting the number of users and movies\n"
      ]
    },
    {
      "cell_type": "code",
      "metadata": {
        "id": "gPaGZqdniC5m"
      },
      "source": [
        "nb_users = int(max(max(training_set[:, 0], ), max(test_set[:, 0])))\n",
        "nb_movies = int(max(max(training_set[:, 1], ), max(test_set[:, 1])))"
      ],
      "execution_count": 6,
      "outputs": []
    },
    {
      "cell_type": "markdown",
      "metadata": {
        "id": "J-w4-hVidlAm"
      },
      "source": [
        "## Converting the data into an array with users in lines and movies in columns\n"
      ]
    },
    {
      "cell_type": "code",
      "metadata": {
        "id": "-wASs2YFiDaa"
      },
      "source": [
        "def convert(data):\n",
        "  new_data = []\n",
        "  for id_users in range(1, nb_users + 1):\n",
        "    id_movies = data[:, 1] [data[:, 0] == id_users]\n",
        "    id_ratings = data[:, 2] [data[:, 0] == id_users]\n",
        "    ratings = np.zeros(nb_movies)\n",
        "    ratings[id_movies - 1] = id_ratings\n",
        "    new_data.append(list(ratings))\n",
        "  return new_data\n",
        "training_set = convert(training_set)\n",
        "test_set = convert(test_set)"
      ],
      "execution_count": 7,
      "outputs": []
    },
    {
      "cell_type": "code",
      "source": [
        "len(training_set[0])"
      ],
      "metadata": {
        "id": "46wXF4HgXCem",
        "outputId": "e00a07c4-e8f8-47f9-ce54-17263bf7ac9f",
        "colab": {
          "base_uri": "https://localhost:8080/"
        }
      },
      "execution_count": 11,
      "outputs": [
        {
          "output_type": "execute_result",
          "data": {
            "text/plain": [
              "1682"
            ]
          },
          "metadata": {},
          "execution_count": 11
        }
      ]
    },
    {
      "cell_type": "code",
      "source": [
        "movies.shape"
      ],
      "metadata": {
        "id": "dJrp-MGsXR6Q",
        "outputId": "3ef27e11-9705-4185-cd2f-c1f400186e81",
        "colab": {
          "base_uri": "https://localhost:8080/"
        }
      },
      "execution_count": 12,
      "outputs": [
        {
          "output_type": "execute_result",
          "data": {
            "text/plain": [
              "(3883, 3)"
            ]
          },
          "metadata": {},
          "execution_count": 12
        }
      ]
    },
    {
      "cell_type": "markdown",
      "metadata": {
        "id": "AMmhuUpldlHo"
      },
      "source": [
        "## Converting the data into Torch tensors\n"
      ]
    },
    {
      "cell_type": "code",
      "metadata": {
        "id": "TwD-KD8yiEEw"
      },
      "source": [
        "training_set = torch.FloatTensor(training_set)\n",
        "test_set = torch.FloatTensor(test_set)"
      ],
      "execution_count": 13,
      "outputs": []
    },
    {
      "cell_type": "code",
      "source": [
        "class SAE(nn.Module):\n",
        "  def __init__(self, ):\n",
        "    super(SAE, self).__init__()\n",
        "    self.fc1 = nn.Linear(nb_movies, 20)\n",
        "    self.fc2 = nn.Linear(20, 10)\n",
        "    self.fc3 = nn.Linear(10, 20)\n",
        "    self.fc4 = nn.Linear(20, nb_movies)\n",
        "    self.activation = nn.Sigmoid()\n",
        "\n",
        "  def forward(self, x):\n",
        "    x = self.activation(self.fc1(x))\n",
        "    x = self.activation(self.fc2(x))\n",
        "    x = self.activation(self.fc3(x))\n",
        "    x = self.fc4(x)\n",
        "    return x"
      ],
      "metadata": {
        "id": "ipwT430FXmxN"
      },
      "execution_count": 15,
      "outputs": []
    },
    {
      "cell_type": "code",
      "source": [
        "sae = SAE()\n",
        "criterion = nn.MSELoss()\n",
        "optimizer = optim.RMSprop(sae.parameters(), lr=0.05, weight_decay=0.5)"
      ],
      "metadata": {
        "id": "A9x_poAmchXz"
      },
      "execution_count": 18,
      "outputs": []
    },
    {
      "cell_type": "code",
      "source": [
        "for param in sae.parameters():\n",
        "  print(param.shape)"
      ],
      "metadata": {
        "id": "ZkxZaJUgdebD",
        "outputId": "3673b378-8716-4eca-e48f-060a3fde05ff",
        "colab": {
          "base_uri": "https://localhost:8080/"
        }
      },
      "execution_count": 21,
      "outputs": [
        {
          "output_type": "stream",
          "name": "stdout",
          "text": [
            "torch.Size([20, 1682])\n",
            "torch.Size([20])\n",
            "torch.Size([10, 20])\n",
            "torch.Size([10])\n",
            "torch.Size([20, 10])\n",
            "torch.Size([20])\n",
            "torch.Size([1682, 20])\n",
            "torch.Size([1682])\n"
          ]
        }
      ]
    },
    {
      "cell_type": "code",
      "source": [
        "nb_epoch = 200\n",
        "for epoch in range(1, nb_epoch+1):\n",
        "  train_loss = 0\n",
        "  s = 0.\n",
        "  for id_user in range(nb_users):\n",
        "    input = Variable(training_set[id_user]).unsqueeze(0)\n",
        "    target = input.clone()\n",
        "    if torch.sum(target.data > 0) > 0:\n",
        "      output = sae.forward(input)\n",
        "      target.require_grad = False\n",
        "      output[target == 0] = 0\n",
        "      loss = criterion(output, target)\n",
        "      mean_corrector = nb_movies/float(torch.sum(target.data > 0) + 1e-10)\n",
        "      loss.backward()\n",
        "      train_loss += np.sqrt(loss.item()*mean_corrector)\n",
        "      s += 1.\n",
        "      optimizer.step()\n",
        "  print(f\"epoch: {epoch} loss: {train_loss/s}\")"
      ],
      "metadata": {
        "id": "ws9JWW2zeRmE",
        "outputId": "4c90e85f-ee36-4bd1-f559-4ea3be837b7f",
        "colab": {
          "base_uri": "https://localhost:8080/"
        }
      },
      "execution_count": 28,
      "outputs": [
        {
          "output_type": "stream",
          "name": "stdout",
          "text": [
            "epoch: 1 loss: 1.819105591267047\n",
            "epoch: 2 loss: 1.1743735457326783\n",
            "epoch: 3 loss: 1.1719071113991628\n",
            "epoch: 4 loss: 1.1311741011209102\n",
            "epoch: 5 loss: 1.152095616482916\n",
            "epoch: 6 loss: 1.1206091666782443\n",
            "epoch: 7 loss: 1.1433776590252047\n",
            "epoch: 8 loss: 1.1156168324960714\n",
            "epoch: 9 loss: 1.1393176358954606\n",
            "epoch: 10 loss: 1.1159119226467245\n",
            "epoch: 11 loss: 1.1350406794252985\n",
            "epoch: 12 loss: 1.1119173084377283\n",
            "epoch: 13 loss: 1.1321008878205827\n",
            "epoch: 14 loss: 1.1076472279922833\n",
            "epoch: 15 loss: 1.1294564532797156\n",
            "epoch: 16 loss: 1.1014261067810573\n",
            "epoch: 17 loss: 1.121797918402122\n",
            "epoch: 18 loss: 1.0980830674974509\n",
            "epoch: 19 loss: 1.119060550364285\n",
            "epoch: 20 loss: 1.097184437351998\n",
            "epoch: 21 loss: 1.117400457603144\n",
            "epoch: 22 loss: 1.0956256233155135\n",
            "epoch: 23 loss: 1.112086280636907\n",
            "epoch: 24 loss: 1.0875000133196047\n",
            "epoch: 25 loss: 1.1042584524700347\n",
            "epoch: 26 loss: 1.080747053530965\n",
            "epoch: 27 loss: 1.0989716719232776\n",
            "epoch: 28 loss: 1.0785711165751692\n",
            "epoch: 29 loss: 1.0980872668109856\n",
            "epoch: 30 loss: 1.0769949783106827\n",
            "epoch: 31 loss: 1.095594564713345\n",
            "epoch: 32 loss: 1.0751805220867388\n",
            "epoch: 33 loss: 1.0946267646198518\n",
            "epoch: 34 loss: 1.073156745895211\n",
            "epoch: 35 loss: 1.090087673498773\n",
            "epoch: 36 loss: 1.0680145388407742\n",
            "epoch: 37 loss: 1.0831619676381274\n",
            "epoch: 38 loss: 1.0650105893090078\n",
            "epoch: 39 loss: 1.081909256836102\n",
            "epoch: 40 loss: 1.0636623313881886\n",
            "epoch: 41 loss: 1.0814424024844218\n",
            "epoch: 42 loss: 1.060895632586895\n",
            "epoch: 43 loss: 1.075957305032707\n",
            "epoch: 44 loss: 1.0565107017979307\n",
            "epoch: 45 loss: 1.0727879121642827\n",
            "epoch: 46 loss: 1.0548532733200382\n",
            "epoch: 47 loss: 1.0706417175460838\n",
            "epoch: 48 loss: 1.0535279375178925\n",
            "epoch: 49 loss: 1.0698333186774267\n",
            "epoch: 50 loss: 1.0523059491068956\n",
            "epoch: 51 loss: 1.068827007062776\n",
            "epoch: 52 loss: 1.0526325433620973\n",
            "epoch: 53 loss: 1.0690928786239593\n",
            "epoch: 54 loss: 1.0517878297491874\n",
            "epoch: 55 loss: 1.0710129771447798\n",
            "epoch: 56 loss: 1.0555909222248347\n",
            "epoch: 57 loss: 1.0739449223991033\n",
            "epoch: 58 loss: 1.0547236732682652\n",
            "epoch: 59 loss: 1.070335246699847\n",
            "epoch: 60 loss: 1.0537038684727202\n",
            "epoch: 61 loss: 1.0708897149408565\n",
            "epoch: 62 loss: 1.0529351233058335\n",
            "epoch: 63 loss: 1.0701705765734677\n",
            "epoch: 64 loss: 1.0523892897741751\n",
            "epoch: 65 loss: 1.0654340791557053\n",
            "epoch: 66 loss: 1.048572386942515\n",
            "epoch: 67 loss: 1.0616365057758548\n",
            "epoch: 68 loss: 1.0472566407651953\n",
            "epoch: 69 loss: 1.0622019211335982\n",
            "epoch: 70 loss: 1.0466283703170467\n",
            "epoch: 71 loss: 1.0647368955673184\n",
            "epoch: 72 loss: 1.0465850380849158\n",
            "epoch: 73 loss: 1.0626383872438838\n",
            "epoch: 74 loss: 1.0443902174305395\n",
            "epoch: 75 loss: 1.0576889480809393\n",
            "epoch: 76 loss: 1.0415477928883374\n",
            "epoch: 77 loss: 1.0566530618483558\n",
            "epoch: 78 loss: 1.0384534615693517\n",
            "epoch: 79 loss: 1.0524996193760592\n",
            "epoch: 80 loss: 1.0351182092534554\n",
            "epoch: 81 loss: 1.047752858378689\n",
            "epoch: 82 loss: 1.0317096391721094\n",
            "epoch: 83 loss: 1.042188947461391\n",
            "epoch: 84 loss: 1.027952504570624\n",
            "epoch: 85 loss: 1.0403330187744557\n",
            "epoch: 86 loss: 1.0240063536903738\n",
            "epoch: 87 loss: 1.0353423412346532\n",
            "epoch: 88 loss: 1.020670812555953\n",
            "epoch: 89 loss: 1.0337191007798918\n",
            "epoch: 90 loss: 1.018951650484279\n",
            "epoch: 91 loss: 1.0314705428388689\n",
            "epoch: 92 loss: 1.0182673491599896\n",
            "epoch: 93 loss: 1.0301243443842294\n",
            "epoch: 94 loss: 1.0147770954462654\n",
            "epoch: 95 loss: 1.0277502291525196\n",
            "epoch: 96 loss: 1.0143097590859105\n",
            "epoch: 97 loss: 1.0245810128369872\n",
            "epoch: 98 loss: 1.0104795649554952\n",
            "epoch: 99 loss: 1.0230653898546496\n",
            "epoch: 100 loss: 1.0093357720958704\n",
            "epoch: 101 loss: 1.0215685099343725\n",
            "epoch: 102 loss: 1.006227086448837\n",
            "epoch: 103 loss: 1.018329300434299\n",
            "epoch: 104 loss: 1.0026616251808427\n",
            "epoch: 105 loss: 1.0158027882407297\n",
            "epoch: 106 loss: 1.001016754200317\n",
            "epoch: 107 loss: 1.0128655086900573\n",
            "epoch: 108 loss: 0.9974345370059\n",
            "epoch: 109 loss: 1.0094874292425555\n",
            "epoch: 110 loss: 0.9951901000070008\n",
            "epoch: 111 loss: 1.0077654170285506\n",
            "epoch: 112 loss: 0.994094159107962\n",
            "epoch: 113 loss: 1.0054633575796479\n",
            "epoch: 114 loss: 0.9919508488960449\n",
            "epoch: 115 loss: 1.0040416538358365\n",
            "epoch: 116 loss: 0.9877214412243596\n",
            "epoch: 117 loss: 0.9999462179211416\n",
            "epoch: 118 loss: 0.9884956441760689\n",
            "epoch: 119 loss: 1.0011241043045922\n",
            "epoch: 120 loss: 0.9864859668110643\n",
            "epoch: 121 loss: 1.0003699251753517\n",
            "epoch: 122 loss: 0.9861712868819018\n",
            "epoch: 123 loss: 0.9980485206340616\n",
            "epoch: 124 loss: 0.982932311392639\n",
            "epoch: 125 loss: 0.9959619811446686\n",
            "epoch: 126 loss: 0.9859612203410633\n",
            "epoch: 127 loss: 0.9952568773298205\n",
            "epoch: 128 loss: 0.9836522679771998\n",
            "epoch: 129 loss: 0.9934955578632653\n",
            "epoch: 130 loss: 0.9819510107408546\n",
            "epoch: 131 loss: 0.9923173612285001\n",
            "epoch: 132 loss: 0.9807547579287965\n",
            "epoch: 133 loss: 0.9898762017592383\n",
            "epoch: 134 loss: 0.9791675592113296\n",
            "epoch: 135 loss: 0.9885121117281715\n",
            "epoch: 136 loss: 0.9788228870860481\n",
            "epoch: 137 loss: 0.9877858673461327\n",
            "epoch: 138 loss: 0.9778544638080121\n",
            "epoch: 139 loss: 0.9874844708417351\n",
            "epoch: 140 loss: 0.9781754924676003\n",
            "epoch: 141 loss: 0.9878424885534307\n",
            "epoch: 142 loss: 0.9770946237088288\n",
            "epoch: 143 loss: 0.9866257796506834\n",
            "epoch: 144 loss: 0.974953058897416\n",
            "epoch: 145 loss: 0.9840689204287283\n",
            "epoch: 146 loss: 0.9741917985031392\n",
            "epoch: 147 loss: 0.984487457473568\n",
            "epoch: 148 loss: 0.9739638716131281\n",
            "epoch: 149 loss: 0.9832424407852499\n",
            "epoch: 150 loss: 0.9724466615216765\n",
            "epoch: 151 loss: 0.9827018195906073\n",
            "epoch: 152 loss: 0.9726203148031616\n",
            "epoch: 153 loss: 0.981680692160121\n",
            "epoch: 154 loss: 0.9705898649563295\n",
            "epoch: 155 loss: 0.9803117781750942\n",
            "epoch: 156 loss: 0.9696377910899804\n",
            "epoch: 157 loss: 0.9785160373121738\n",
            "epoch: 158 loss: 0.9692542119451116\n",
            "epoch: 159 loss: 0.9804128029904065\n",
            "epoch: 160 loss: 0.9688675028437342\n",
            "epoch: 161 loss: 0.9779318399198005\n",
            "epoch: 162 loss: 0.968079018934107\n",
            "epoch: 163 loss: 0.9822729422895011\n",
            "epoch: 164 loss: 0.9709783132549459\n",
            "epoch: 165 loss: 0.9815417052614226\n",
            "epoch: 166 loss: 0.9672366315735108\n",
            "epoch: 167 loss: 0.9793646336894725\n",
            "epoch: 168 loss: 0.967754900021298\n",
            "epoch: 169 loss: 0.9822050368109755\n",
            "epoch: 170 loss: 0.9707225447908837\n",
            "epoch: 171 loss: 0.9818596342425958\n",
            "epoch: 172 loss: 0.9699329727394174\n",
            "epoch: 173 loss: 0.9825825953287198\n",
            "epoch: 174 loss: 0.9668730674246101\n",
            "epoch: 175 loss: 0.9802304043502618\n",
            "epoch: 176 loss: 0.9700154527302678\n",
            "epoch: 177 loss: 0.9784197212938854\n",
            "epoch: 178 loss: 0.9642342391796996\n",
            "epoch: 179 loss: 0.9742882935815144\n",
            "epoch: 180 loss: 0.964106238473523\n",
            "epoch: 181 loss: 0.9754436899535434\n",
            "epoch: 182 loss: 0.9627656384947969\n",
            "epoch: 183 loss: 0.971811063777679\n",
            "epoch: 184 loss: 0.9608165079138117\n",
            "epoch: 185 loss: 0.9714028866209155\n",
            "epoch: 186 loss: 0.9602578069171445\n",
            "epoch: 187 loss: 0.9686389206729036\n",
            "epoch: 188 loss: 0.9577436979771329\n",
            "epoch: 189 loss: 0.9669316846170379\n",
            "epoch: 190 loss: 0.9554824761946806\n",
            "epoch: 191 loss: 0.9654067637327787\n",
            "epoch: 192 loss: 0.9540423675556658\n",
            "epoch: 193 loss: 0.9642777278051587\n",
            "epoch: 194 loss: 0.9535779068412438\n",
            "epoch: 195 loss: 0.9641914345632182\n",
            "epoch: 196 loss: 0.9537837500246461\n",
            "epoch: 197 loss: 0.963354500584028\n",
            "epoch: 198 loss: 0.9521181591552079\n",
            "epoch: 199 loss: 0.9619158964330696\n",
            "epoch: 200 loss: 0.9520591108868808\n"
          ]
        }
      ]
    },
    {
      "cell_type": "code",
      "source": [
        "torch.cuda.is_available()"
      ],
      "metadata": {
        "id": "ssA1nw3Lra0f",
        "outputId": "c29aba65-3cb6-4ca1-ca19-c9e56770be1a",
        "colab": {
          "base_uri": "https://localhost:8080/"
        }
      },
      "execution_count": 35,
      "outputs": [
        {
          "output_type": "execute_result",
          "data": {
            "text/plain": [
              "True"
            ]
          },
          "metadata": {},
          "execution_count": 35
        }
      ]
    },
    {
      "cell_type": "code",
      "source": [
        "# Calculating test loss\n",
        "test_loss = 0\n",
        "s = 0.\n",
        "for id_user in range(nb_users):\n",
        "  input = Variable(training_set[id_user]).unsqueeze(0)\n",
        "  target = Variable(test_set[id_user]).unsqueeze(0)\n",
        "  if torch.sum(target.data > 0) > 0:\n",
        "    output = sae(input)\n",
        "    target.require_grad = False\n",
        "    output[target == 0] = 0\n",
        "    loss = criterion(output, target)\n",
        "    mean_corrector = nb_movies/float(torch.sum(target.data > 0) + 1e-10)\n",
        "    test_loss += np.sqrt(loss.item()*mean_corrector)\n",
        "    s += 1.\n",
        "print(f\"Test loss: {test_loss/s} number of users: {s}\")"
      ],
      "metadata": {
        "id": "H2OO3Ix2j56H",
        "outputId": "f6397190-5b3a-4dc3-c31e-a4e91af2ed76",
        "colab": {
          "base_uri": "https://localhost:8080/"
        }
      },
      "execution_count": 34,
      "outputs": [
        {
          "output_type": "stream",
          "name": "stdout",
          "text": [
            "Test loss: 0.9818580483738666 number of users: 459.0\n"
          ]
        }
      ]
    },
    {
      "cell_type": "code",
      "source": [
        "nb_epoch = 200\n",
        "for epoch in range(1, nb_epoch+1):\n",
        "  train_loss = 0\n",
        "  s = 0.\n",
        "  for id_user in range(nb_users):\n",
        "    input = Variable(training_set[id_user]).unsqueeze(0)\n",
        "    target = input.clone()\n",
        "    if torch.sum(target.data > 0) > 0:\n",
        "      output = sae.forward(input)\n",
        "      target.require_grad = False\n",
        "      output[target == 0] = 0\n",
        "      loss = criterion(output, target)\n",
        "      mean_corrector = nb_movies/float(torch.sum(target.data > 0) + 1e-10)\n",
        "      loss.backward()\n",
        "      train_loss += np.sqrt(loss.item()*mean_corrector)\n",
        "      s += 1.\n",
        "  print(f\"epoch: {epoch} loss: {train_loss/s}\")"
      ],
      "metadata": {
        "id": "iTrYwtdCnIQO"
      },
      "execution_count": null,
      "outputs": []
    },
    {
      "cell_type": "markdown",
      "metadata": {
        "id": "6kkL8NkkdlZj"
      },
      "source": [
        "## Creating the architecture of the Neural Network\n"
      ]
    },
    {
      "cell_type": "code",
      "metadata": {
        "id": "oU2nyh76iE6M"
      },
      "source": [
        "class SAE(nn.Module):\n",
        "    def __init__(self, ):\n",
        "        super(SAE, self).__init__()\n",
        "        self.fc1 = nn.Linear(nb_movies, 20)\n",
        "        self.fc2 = nn.Linear(20, 10)\n",
        "        self.fc3 = nn.Linear(10, 20)\n",
        "        self.fc4 = nn.Linear(20, nb_movies)\n",
        "        self.activation = nn.Sigmoid()\n",
        "    def forward(self, x):\n",
        "        x = self.activation(self.fc1(x))\n",
        "        x = self.activation(self.fc2(x))\n",
        "        x = self.activation(self.fc3(x))\n",
        "        x = self.fc4(x)\n",
        "        return x\n",
        "sae = SAE()\n",
        "criterion = nn.MSELoss()\n",
        "optimizer = optim.RMSprop(sae.parameters(), lr = 0.01, weight_decay = 0.5)"
      ],
      "execution_count": null,
      "outputs": []
    },
    {
      "cell_type": "markdown",
      "metadata": {
        "id": "7gy59alAdloL"
      },
      "source": [
        "## Training the SAE\n"
      ]
    },
    {
      "cell_type": "code",
      "metadata": {
        "id": "FEz9hRaciFTs",
        "colab": {
          "base_uri": "https://localhost:8080/",
          "height": 1000
        },
        "outputId": "0f6ed0d0-09c4-46c0-bfe6-70031d76b491"
      },
      "source": [
        "nb_epoch = 200\n",
        "for epoch in range(1, nb_epoch + 1):\n",
        "  train_loss = 0\n",
        "  s = 0.\n",
        "  for id_user in range(nb_users):\n",
        "    input = Variable(training_set[id_user]).unsqueeze(0)\n",
        "    target = input.clone()\n",
        "    if torch.sum(target.data > 0) > 0:\n",
        "      output = sae(input)\n",
        "      target.require_grad = False\n",
        "      output[target == 0] = 0\n",
        "      loss = criterion(output, target)\n",
        "      mean_corrector = nb_movies/float(torch.sum(target.data > 0) + 1e-10)\n",
        "      loss.backward()\n",
        "      train_loss += np.sqrt(loss.data*mean_corrector)\n",
        "      s += 1.\n",
        "      optimizer.step()\n",
        "  print('epoch: '+str(epoch)+'loss: '+ str(train_loss/s))"
      ],
      "execution_count": null,
      "outputs": [
        {
          "output_type": "stream",
          "text": [
            "epoch: 1loss: tensor(1.7709)\n",
            "epoch: 2loss: tensor(1.0968)\n",
            "epoch: 3loss: tensor(1.0534)\n",
            "epoch: 4loss: tensor(1.0384)\n",
            "epoch: 5loss: tensor(1.0309)\n",
            "epoch: 6loss: tensor(1.0267)\n",
            "epoch: 7loss: tensor(1.0239)\n",
            "epoch: 8loss: tensor(1.0220)\n",
            "epoch: 9loss: tensor(1.0208)\n",
            "epoch: 10loss: tensor(1.0198)\n",
            "epoch: 11loss: tensor(1.0187)\n",
            "epoch: 12loss: tensor(1.0185)\n",
            "epoch: 13loss: tensor(1.0179)\n",
            "epoch: 14loss: tensor(1.0173)\n",
            "epoch: 15loss: tensor(1.0171)\n",
            "epoch: 16loss: tensor(1.0170)\n",
            "epoch: 17loss: tensor(1.0165)\n",
            "epoch: 18loss: tensor(1.0168)\n",
            "epoch: 19loss: tensor(1.0163)\n",
            "epoch: 20loss: tensor(1.0163)\n",
            "epoch: 21loss: tensor(1.0162)\n",
            "epoch: 22loss: tensor(1.0161)\n",
            "epoch: 23loss: tensor(1.0158)\n",
            "epoch: 24loss: tensor(1.0160)\n",
            "epoch: 25loss: tensor(1.0153)\n",
            "epoch: 26loss: tensor(1.0156)\n",
            "epoch: 27loss: tensor(1.0154)\n",
            "epoch: 28loss: tensor(1.0151)\n",
            "epoch: 29loss: tensor(1.0141)\n",
            "epoch: 30loss: tensor(1.0115)\n",
            "epoch: 31loss: tensor(1.0098)\n",
            "epoch: 32loss: tensor(1.0075)\n",
            "epoch: 33loss: tensor(1.0052)\n",
            "epoch: 34loss: tensor(1.0050)\n",
            "epoch: 35loss: tensor(1.0015)\n",
            "epoch: 36loss: tensor(0.9990)\n",
            "epoch: 37loss: tensor(0.9964)\n",
            "epoch: 38loss: tensor(0.9965)\n",
            "epoch: 39loss: tensor(0.9912)\n",
            "epoch: 40loss: tensor(0.9891)\n",
            "epoch: 41loss: tensor(0.9876)\n",
            "epoch: 42loss: tensor(0.9865)\n",
            "epoch: 43loss: tensor(0.9843)\n",
            "epoch: 44loss: tensor(0.9839)\n",
            "epoch: 45loss: tensor(0.9802)\n",
            "epoch: 46loss: tensor(0.9861)\n",
            "epoch: 47loss: tensor(0.9773)\n",
            "epoch: 48loss: tensor(0.9799)\n",
            "epoch: 49loss: tensor(0.9791)\n",
            "epoch: 50loss: tensor(0.9738)\n",
            "epoch: 51loss: tensor(0.9703)\n",
            "epoch: 52loss: tensor(0.9747)\n",
            "epoch: 53loss: tensor(0.9733)\n",
            "epoch: 54loss: tensor(0.9747)\n",
            "epoch: 55loss: tensor(0.9733)\n",
            "epoch: 56loss: tensor(0.9721)\n",
            "epoch: 57loss: tensor(0.9684)\n",
            "epoch: 58loss: tensor(0.9661)\n",
            "epoch: 59loss: tensor(0.9632)\n",
            "epoch: 60loss: tensor(0.9637)\n",
            "epoch: 61loss: tensor(0.9607)\n",
            "epoch: 62loss: tensor(0.9603)\n",
            "epoch: 63loss: tensor(0.9580)\n",
            "epoch: 64loss: tensor(0.9662)\n",
            "epoch: 65loss: tensor(0.9650)\n",
            "epoch: 66loss: tensor(0.9590)\n",
            "epoch: 67loss: tensor(0.9628)\n",
            "epoch: 68loss: tensor(0.9599)\n",
            "epoch: 69loss: tensor(0.9581)\n",
            "epoch: 70loss: tensor(0.9579)\n",
            "epoch: 71loss: tensor(0.9560)\n",
            "epoch: 72loss: tensor(0.9573)\n",
            "epoch: 73loss: tensor(0.9561)\n",
            "epoch: 74loss: tensor(0.9609)\n",
            "epoch: 75loss: tensor(0.9576)\n",
            "epoch: 76loss: tensor(0.9644)\n",
            "epoch: 77loss: tensor(0.9562)\n",
            "epoch: 78loss: tensor(0.9554)\n",
            "epoch: 79loss: tensor(0.9517)\n",
            "epoch: 80loss: tensor(0.9521)\n",
            "epoch: 81loss: tensor(0.9521)\n",
            "epoch: 82loss: tensor(0.9545)\n",
            "epoch: 83loss: tensor(0.9510)\n",
            "epoch: 84loss: tensor(0.9508)\n",
            "epoch: 85loss: tensor(0.9490)\n",
            "epoch: 86loss: tensor(0.9484)\n",
            "epoch: 87loss: tensor(0.9464)\n",
            "epoch: 88loss: tensor(0.9482)\n",
            "epoch: 89loss: tensor(0.9484)\n",
            "epoch: 90loss: tensor(0.9477)\n",
            "epoch: 91loss: tensor(0.9449)\n",
            "epoch: 92loss: tensor(0.9460)\n",
            "epoch: 93loss: tensor(0.9437)\n",
            "epoch: 94loss: tensor(0.9432)\n",
            "epoch: 95loss: tensor(0.9417)\n",
            "epoch: 96loss: tensor(0.9429)\n",
            "epoch: 97loss: tensor(0.9417)\n",
            "epoch: 98loss: tensor(0.9420)\n",
            "epoch: 99loss: tensor(0.9398)\n",
            "epoch: 100loss: tensor(0.9405)\n",
            "epoch: 101loss: tensor(0.9385)\n",
            "epoch: 102loss: tensor(0.9393)\n",
            "epoch: 103loss: tensor(0.9380)\n",
            "epoch: 104loss: tensor(0.9393)\n",
            "epoch: 105loss: tensor(0.9375)\n",
            "epoch: 106loss: tensor(0.9403)\n",
            "epoch: 107loss: tensor(0.9383)\n",
            "epoch: 108loss: tensor(0.9397)\n",
            "epoch: 109loss: tensor(0.9380)\n",
            "epoch: 110loss: tensor(0.9391)\n",
            "epoch: 111loss: tensor(0.9358)\n",
            "epoch: 112loss: tensor(0.9375)\n",
            "epoch: 113loss: tensor(0.9357)\n",
            "epoch: 114loss: tensor(0.9365)\n",
            "epoch: 115loss: tensor(0.9342)\n",
            "epoch: 116loss: tensor(0.9349)\n",
            "epoch: 117loss: tensor(0.9342)\n",
            "epoch: 118loss: tensor(0.9355)\n",
            "epoch: 119loss: tensor(0.9340)\n",
            "epoch: 120loss: tensor(0.9349)\n",
            "epoch: 121loss: tensor(0.9330)\n",
            "epoch: 122loss: tensor(0.9340)\n",
            "epoch: 123loss: tensor(0.9322)\n",
            "epoch: 124loss: tensor(0.9329)\n",
            "epoch: 125loss: tensor(0.9320)\n",
            "epoch: 126loss: tensor(0.9328)\n",
            "epoch: 127loss: tensor(0.9310)\n",
            "epoch: 128loss: tensor(0.9312)\n",
            "epoch: 129loss: tensor(0.9303)\n",
            "epoch: 130loss: tensor(0.9307)\n",
            "epoch: 131loss: tensor(0.9301)\n",
            "epoch: 132loss: tensor(0.9298)\n",
            "epoch: 133loss: tensor(0.9299)\n",
            "epoch: 134loss: tensor(0.9294)\n",
            "epoch: 135loss: tensor(0.9284)\n",
            "epoch: 136loss: tensor(0.9290)\n",
            "epoch: 137loss: tensor(0.9283)\n",
            "epoch: 138loss: tensor(0.9281)\n",
            "epoch: 139loss: tensor(0.9272)\n",
            "epoch: 140loss: tensor(0.9276)\n",
            "epoch: 141loss: tensor(0.9267)\n",
            "epoch: 142loss: tensor(0.9273)\n",
            "epoch: 143loss: tensor(0.9268)\n",
            "epoch: 144loss: tensor(0.9273)\n",
            "epoch: 145loss: tensor(0.9249)\n",
            "epoch: 146loss: tensor(0.9264)\n",
            "epoch: 147loss: tensor(0.9248)\n",
            "epoch: 148loss: tensor(0.9255)\n",
            "epoch: 149loss: tensor(0.9244)\n",
            "epoch: 150loss: tensor(0.9247)\n",
            "epoch: 151loss: tensor(0.9237)\n",
            "epoch: 152loss: tensor(0.9242)\n",
            "epoch: 153loss: tensor(0.9237)\n",
            "epoch: 154loss: tensor(0.9238)\n",
            "epoch: 155loss: tensor(0.9232)\n",
            "epoch: 156loss: tensor(0.9238)\n",
            "epoch: 157loss: tensor(0.9227)\n",
            "epoch: 158loss: tensor(0.9226)\n",
            "epoch: 159loss: tensor(0.9225)\n",
            "epoch: 160loss: tensor(0.9223)\n",
            "epoch: 161loss: tensor(0.9217)\n",
            "epoch: 162loss: tensor(0.9231)\n",
            "epoch: 163loss: tensor(0.9232)\n",
            "epoch: 164loss: tensor(0.9223)\n",
            "epoch: 165loss: tensor(0.9218)\n",
            "epoch: 166loss: tensor(0.9216)\n",
            "epoch: 167loss: tensor(0.9211)\n",
            "epoch: 168loss: tensor(0.9212)\n",
            "epoch: 169loss: tensor(0.9207)\n",
            "epoch: 170loss: tensor(0.9202)\n",
            "epoch: 171loss: tensor(0.9199)\n",
            "epoch: 172loss: tensor(0.9203)\n",
            "epoch: 173loss: tensor(0.9196)\n",
            "epoch: 174loss: tensor(0.9203)\n",
            "epoch: 175loss: tensor(0.9196)\n",
            "epoch: 176loss: tensor(0.9202)\n",
            "epoch: 177loss: tensor(0.9188)\n",
            "epoch: 178loss: tensor(0.9191)\n",
            "epoch: 179loss: tensor(0.9187)\n",
            "epoch: 180loss: tensor(0.9196)\n",
            "epoch: 181loss: tensor(0.9179)\n",
            "epoch: 182loss: tensor(0.9193)\n",
            "epoch: 183loss: tensor(0.9189)\n",
            "epoch: 184loss: tensor(0.9186)\n",
            "epoch: 185loss: tensor(0.9178)\n",
            "epoch: 186loss: tensor(0.9185)\n",
            "epoch: 187loss: tensor(0.9173)\n",
            "epoch: 188loss: tensor(0.9177)\n",
            "epoch: 189loss: tensor(0.9174)\n",
            "epoch: 190loss: tensor(0.9178)\n",
            "epoch: 191loss: tensor(0.9176)\n",
            "epoch: 192loss: tensor(0.9177)\n",
            "epoch: 193loss: tensor(0.9170)\n",
            "epoch: 194loss: tensor(0.9172)\n",
            "epoch: 195loss: tensor(0.9170)\n",
            "epoch: 196loss: tensor(0.9168)\n",
            "epoch: 197loss: tensor(0.9163)\n",
            "epoch: 198loss: tensor(0.9167)\n",
            "epoch: 199loss: tensor(0.9160)\n",
            "epoch: 200loss: tensor(0.9164)\n"
          ],
          "name": "stdout"
        }
      ]
    },
    {
      "cell_type": "markdown",
      "metadata": {
        "id": "Bak5uc8gd-gX"
      },
      "source": [
        "## Testing the SAE\n"
      ]
    },
    {
      "cell_type": "code",
      "metadata": {
        "id": "5ztvzYRtiGCz",
        "colab": {
          "base_uri": "https://localhost:8080/",
          "height": 34
        },
        "outputId": "d0e8ea8b-9ac4-40e5-a19a-7fcfc6934d61"
      },
      "source": [
        "test_loss = 0\n",
        "s = 0.\n",
        "for id_user in range(nb_users):\n",
        "  input = Variable(training_set[id_user]).unsqueeze(0)\n",
        "  target = Variable(test_set[id_user]).unsqueeze(0)\n",
        "  if torch.sum(target.data > 0) > 0:\n",
        "    output = sae(input)\n",
        "    target.require_grad = False\n",
        "    output[target == 0] = 0\n",
        "    loss = criterion(output, target)\n",
        "    mean_corrector = nb_movies/float(torch.sum(target.data > 0) + 1e-10)\n",
        "    test_loss += np.sqrt(loss.data*mean_corrector)\n",
        "    s += 1.\n",
        "print('test loss: '+str(test_loss/s))"
      ],
      "execution_count": null,
      "outputs": [
        {
          "output_type": "stream",
          "text": [
            "test loss: tensor(0.9681)\n"
          ],
          "name": "stdout"
        }
      ]
    }
  ]
}